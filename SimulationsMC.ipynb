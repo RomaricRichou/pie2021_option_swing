{
  "nbformat": 4,
  "nbformat_minor": 0,
  "metadata": {
    "colab": {
      "name": "SimulationsMC.ipynb",
      "provenance": [],
      "collapsed_sections": [],
      "include_colab_link": true
    },
    "kernelspec": {
      "name": "python3",
      "display_name": "Python 3"
    },
    "language_info": {
      "name": "python"
    }
  },
  "cells": [
    {
      "cell_type": "markdown",
      "metadata": {
        "id": "view-in-github",
        "colab_type": "text"
      },
      "source": [
        "<a href=\"https://colab.research.google.com/github/RomaricRichou/pie2021_option_swing/blob/main/SimulationsMC.ipynb\" target=\"_parent\"><img src=\"https://colab.research.google.com/assets/colab-badge.svg\" alt=\"Open In Colab\"/></a>"
      ]
    },
    {
      "cell_type": "code",
      "execution_count": null,
      "metadata": {
        "id": "lcchOP8TISOp"
      },
      "outputs": [],
      "source": [
        "## Exemple de référence\n",
        "\n",
        "def american_mc(T,N,steps,S,r,sigma,K, typeCP):\n",
        "  import numpy as np\n",
        "\tif typeCP==\"call\":\n",
        "\t\ttypeCP=1\n",
        "\telse:\n",
        "\t\ttypeCP=-1\n",
        "\t\n",
        "\tdt = np.float(T) / steps\n",
        "\tdf = np.exp(-r * dt)\n",
        "\t# simulation of index levels\n",
        "\tSPath = np.zeros((steps + 1, N))\n",
        "\tSPath[0] = S\n",
        "\t\n",
        "\tz=np.random.randn(steps,N)\n",
        "\n",
        "\tfor t in range(1, steps + 1):\n",
        "\t\tSPath[t] = SPath[t - 1] * np.exp((r - 0.5 * sigma ** 2) * dt + sigma * np.sqrt(dt) *z[t-1])\n",
        "\n",
        "\t# case-based calculation of payoff\n",
        "\th = np.maximum(typeCP*(SPath - K), 0)\n",
        "\t# LSM algorithm\n",
        "\tV = np.copy(h)\n",
        "\tfor t in range(steps - 1, 0, -1):\n",
        "\t\treg = np.polyfit(SPath[t], V[t + 1] * df, 7)\n",
        "\t\tC = np.polyval(reg, SPath[t])\n",
        "\t\tV[t] = np.where(C > h[t], V[t + 1] * df, h[t])\n",
        "\t# MCS estimator\n",
        "\toption = df * 1 / N * np.sum(V[1])\n",
        "\treturn option"
      ]
    },
    {
      "cell_type": "code",
      "source": [
        "## Création d'un échantillon Normal : Df = F*sigma*dBt\n",
        "def normal_mc(T,N,steps,S,r,sigma, show=False):\n",
        "  import numpy as np\n",
        "\t\n",
        "  dt = np.float(T) / steps\n",
        "  # simulation of index levels\n",
        "  SPath = np.zeros((steps + 1, N))\n",
        "  SPath[0] = S\n",
        "\t\n",
        "  z=np.random.randn(steps,N)\n",
        "\n",
        "  for t in range(1, steps + 1):\n",
        "    SPath[t] = SPath[t - 1] * np.exp((r - 0.5 * sigma ** 2) * dt + sigma * np.sqrt(dt) *z[t-1])\n",
        "\n",
        "  if show:\n",
        "    import matplotlib.pyplot as plt\n",
        "    time=[i*dt for i in range(steps+1)]\n",
        "    for i in range(N):\n",
        "      plt.plot(time, SPath[:,i])\n",
        "    plt.show()\n",
        "  return SPath\n",
        "\n",
        "## Visualisation des simulations et détermination des quantiles (utiles en terme de gestion de risque ?) + Affichage temps de calcul\n",
        "import numpy as np\n",
        "import time\n",
        "\n",
        "start=time.perf_counter()\n",
        "mc_test=normal_mc(2,1000000,100,1,0,0.2,show = False)\n",
        "end=time.perf_counter()\n",
        "\n",
        "\n",
        "print(\"Les quantiles d'ordre 5%, 50%, 95%\",np.quantile(mc_test[100],[0.05,0.5,0.95]))\n",
        "print(\"Le pourcentile de 1 est :\",np.percentile(mc_test[100],1))\n",
        "print(\"Le temps de calcul est de :\",end-start)"
      ],
      "metadata": {
        "colab": {
          "base_uri": "https://localhost:8080/"
        },
        "id": "eu568HmmIZAT",
        "outputId": "2cbae4dd-88bd-4acc-d4b0-10c90e30c18c"
      },
      "execution_count": 5,
      "outputs": [
        {
          "output_type": "stream",
          "name": "stdout",
          "text": [
            "Les quantiles d'ordre 5%, 50%, 95% [0.60363567 0.96105357 1.5283488 ]\n",
            "Le poucentile de 1 est : 0.49708146659925767\n",
            "Le temps de calcul est de : 7.083642991000033\n"
          ]
        }
      ]
    },
    {
      "cell_type": "code",
      "source": [
        ""
      ],
      "metadata": {
        "id": "WmKJrM_RQ6-c"
      },
      "execution_count": null,
      "outputs": []
    }
  ]
}